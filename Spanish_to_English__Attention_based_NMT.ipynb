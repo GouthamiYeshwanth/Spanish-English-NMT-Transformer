{
  "cells": [
    {
      "cell_type": "markdown",
      "source": [
        "**Background:**\n",
        "Due to language barriers, a US-based life insurance company is facing a challenge in communicating with the Spanish-speaking community in Mexico. The locals there need help in understanding English, and the company cannot provide translators for all of them. To overcome this challenge and provide coverage to the locals, the company needs a machine translation model that can accurately translate the application request letter from Spanish to English.\n",
        "\n",
        "**Problem Statement:** Your task is to build an **attention-based sequence-to-sequence model** that can effectively understand the context of Spanish sentences and translate them into clear and coherent English sentences. The company aims to use this model to ensure seamless communication and provide coverage to the Spanish-speaking community in Mexico.\n",
        "\n",
        "\n",
        "**Objectives:**\n",
        "To explore the challenges of working with low-resource languages.\n",
        "Implement an encoder-decoder NMT model with attention.\n",
        "\n",
        "**Terminal Objective:**\n",
        "To build and train an NMT model that can accurately translate Spanish sentences to English and vice versa.\n"
      ],
      "metadata": {
        "id": "sSyIIvg6nqkF"
      }
    },
    {
      "cell_type": "markdown",
      "metadata": {
        "id": "KVHQz0V1gCYw"
      },
      "source": [
        "### **Overall objectives:**\n",
        "The objective of this assignment is to build a Sequence to Sequence model for Spanish to English translation.\n",
        "\n",
        "The code is broken down into several pipelines:\n",
        "* Task 1: Load the data\n",
        "* Task 2: Process the data\n",
        "* Task 3: Build the NMT model\n",
        "* Task 4: Train the NMT model\n",
        "* Task 5: Evaluate the NMT model\n",
        "\n",
        "*Note: the details of each of the above task are elaborated in various parts of this stub code.\n",
        "\n"
      ]
    },
    {
      "cell_type": "markdown",
      "source": [
        "### **How to read this stub code file and solve this assignment**\n",
        "\n",
        "*   All the tasks and details around how to perform them are mentioned in detail in this stub code file.\n",
        "\n",
        "*   You need to go through the instructions mentioned as 'comments' in the stub code file and add a code where there is a **---** given or where it would be mentioned as **'fill this'**.\n",
        "\n",
        "*   To understand the complete flow of that particular section and it's sub-tasks, scroll through the table of contents section in the left tab of this stub code file.\n",
        "\n",
        "*   In case, for any existing part of code, or for something already written, you may or may not modify it, as long as you are serving the purpose of the task required in that section."
      ],
      "metadata": {
        "id": "-Qd-2FX7tUFW"
      }
    },
    {
      "cell_type": "markdown",
      "source": [
        "### **Task 1. Load the data**"
      ],
      "metadata": {
        "id": "EfqShvnGbQ3G"
      }
    },
    {
      "cell_type": "markdown",
      "source": [
        "#### 1.0 Importing Libraries"
      ],
      "metadata": {
        "id": "0rmVOQFibqyc"
      }
    },
    {
      "cell_type": "code",
      "execution_count": 1,
      "metadata": {
        "id": "QOpqRjeimzya"
      },
      "outputs": [],
      "source": [
        "import os,io\n",
        "import re\n",
        "import numpy as np\n",
        "import pandas as pd\n",
        "import matplotlib.pyplot as plt\n",
        "import matplotlib.ticker as ticker\n",
        "import tensorflow as tf"
      ]
    },
    {
      "cell_type": "markdown",
      "source": [
        "#### 1.1 Downloading the dataset\n",
        "\n",
        "The dataset used is a paired corpus of **English-Spanish**, provided by [Anki](https://www.manythings.org/anki/).\n",
        "\n",
        "The code starts by downloading a zip file containing the dataset for English to Spanish translation. The dataset is stored in the `spa-eng` folder and can be found in the file named `spa.txt`.\n",
        "\n",
        "Let's take a look at how the data looks like\n",
        "\n",
        "![Spa-Eng Data Set.png](data:image/png;base64,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)"
      ],
      "metadata": {
        "id": "4YueXBWFoGTg"
      }
    },
    {
      "cell_type": "markdown",
      "source": [
        "- Each line in the `spa.txt` file contains an English word/sentence and their corresponding Spanish translation.\n",
        "\n",
        "- Some words might have multiple translation because of context.\n",
        "\n",
        "- Our first objective is to extract each line, and then separate the  English and Spanish words/sentences into two separate arrays. These will act as our input and target sentences for training the model"
      ],
      "metadata": {
        "id": "s66rBOGHcXmp"
      }
    },
    {
      "cell_type": "code",
      "source": [
        "# Downloading the file\n",
        "zip_file = tf.keras.utils.get_file(\n",
        "    'spa-eng.zip', origin='http://storage.googleapis.com/download.tensorflow.org/data/spa-eng.zip',\n",
        "    extract=True)\n",
        "\n",
        "file_path = os.path.dirname(zip_file)+\"/spa-eng/spa.txt\""
      ],
      "metadata": {
        "id": "-IeqZZGPHEEI"
      },
      "execution_count": 2,
      "outputs": []
    },
    {
      "cell_type": "code",
      "source": [
        "##Check file_path\n",
        "file_path"
      ],
      "metadata": {
        "colab": {
          "base_uri": "https://localhost:8080/",
          "height": 36
        },
        "id": "R87gmLSGHfPj",
        "outputId": "8e5e3b7b-50ac-4980-99da-84885184c8e8"
      },
      "execution_count": 3,
      "outputs": [
        {
          "output_type": "execute_result",
          "data": {
            "text/plain": [
              "'/root/.keras/datasets/spa-eng/spa.txt'"
            ],
            "application/vnd.google.colaboratory.intrinsic+json": {
              "type": "string"
            }
          },
          "metadata": {},
          "execution_count": 3
        }
      ]
    },
    {
      "cell_type": "markdown",
      "source": [
        "#### 1.2. Load the data\n",
        "\n",
        "Next step is to load the data and split it into two arrays `src_sentences` and `tgt_sentences`. For performing this task, we create a function `load_data`\n",
        "\n",
        "The function **load_data()** should read a file located at `file_path` and returns the text content split into source and target arrays.\n",
        "\n"
      ],
      "metadata": {
        "id": "Hpvhnz8EoK--"
      }
    },
    {
      "cell_type": "code",
      "source": [
        "def load_data(path, size=None):\n",
        "    \"\"\"\n",
        "    This function reads a file located at `path` and returns the text content split into source and target arrays.\n",
        "    The data in the file should be separated by tabs and have source and target text separated by a newline.\n",
        "\n",
        "    Args:\n",
        "    - path: str, the path to the file\n",
        "    - size: int, the number of lines to read from the file. If not provided or None, the function will read all lines.\n",
        "\n",
        "    Returns:\n",
        "    - source: numpy array, the array containing source text.\n",
        "    - target: numpy array, the array containing target text.\n",
        "\n",
        "    \"\"\"\n",
        "    text = io.open(path, encoding='UTF-8').read()\n",
        "\n",
        "    lines = text.split(\"\\n\") # split the text into lines separated by newline # Insert Code Here ----\n",
        "    pairs = [ line.split(\"\\t\") for line in lines]  # split each line into source and target using tabs # Insert Code Here ----\n",
        "    pairs.remove(['']) #remove empty pairs\n",
        "    source = np.array([pair[1] for pair in pairs])  # extract source text into a numpy array\n",
        "    target = np.array([pair[0] for pair in pairs])  # extract target text into a numpy array\n",
        "\n",
        "    return source, target\n"
      ],
      "metadata": {
        "id": "zDQb8p1woQME"
      },
      "execution_count": 8,
      "outputs": []
    },
    {
      "cell_type": "code",
      "execution_count": 9,
      "metadata": {
        "id": "8tb6MCvyEQNR",
        "colab": {
          "base_uri": "https://localhost:8080/"
        },
        "outputId": "16cd893d-2860-4f43-a685-cd6e3dfe93f8"
      },
      "outputs": [
        {
          "output_type": "stream",
          "name": "stdout",
          "text": [
            "Original Sentence: Yo lo sé.\n",
            "Translated Sentence: I know.\n"
          ]
        }
      ],
      "source": [
        "src_sentences, tgt_sentences = load_data(file_path)\n",
        "print(\"Original Sentence:\",src_sentences[42])\n",
        "print(\"Translated Sentence:\",tgt_sentences[42])"
      ]
    },
    {
      "cell_type": "markdown",
      "source": [
        "#### 1.3 Visualize the data\n",
        "\n",
        "In the next subtask, we'll take a slight detour, and covert the given source and target sentences into a DataFrame and visualize the word/sentence-length distribution. It is important to analyze and visualize the corpus of data so that their sentence length distribution can be understood.\n",
        "\n",
        "Visualizing sentence length distribution helps in understanding data, making decisions about preprocessing, determining appropriate padding/truncation, and batch size for NMT model training."
      ],
      "metadata": {
        "id": "n8WuU90ZoUOu"
      }
    },
    {
      "cell_type": "code",
      "source": [
        "#Create a dataframe\n",
        "df = pd.DataFrame(zip(src_sentences, tgt_sentences), columns=['source_sentence', 'target_sentence'])\n",
        "df"
      ],
      "metadata": {
        "id": "hXBNYoO3tnW8",
        "colab": {
          "base_uri": "https://localhost:8080/",
          "height": 423
        },
        "outputId": "6d5dca4f-0e32-43c2-910c-a18cacafffaf"
      },
      "execution_count": 10,
      "outputs": [
        {
          "output_type": "execute_result",
          "data": {
            "text/plain": [
              "                                          source_sentence  \\\n",
              "0                                                     Ve.   \n",
              "1                                                   Vete.   \n",
              "2                                                   Vaya.   \n",
              "3                                                 Váyase.   \n",
              "4                                                   Hola.   \n",
              "...                                                   ...   \n",
              "118959  Hay cuatro causas principales de muertes relac...   \n",
              "118960  Hay madres y padres que se quedan despiertos d...   \n",
              "118961  Una huella de carbono es la cantidad de contam...   \n",
              "118962  Como suele haber varias páginas web sobre cual...   \n",
              "118963  Si quieres sonar como un hablante nativo, debe...   \n",
              "\n",
              "                                          target_sentence  \n",
              "0                                                     Go.  \n",
              "1                                                     Go.  \n",
              "2                                                     Go.  \n",
              "3                                                     Go.  \n",
              "4                                                     Hi.  \n",
              "...                                                   ...  \n",
              "118959  There are four main causes of alcohol-related ...  \n",
              "118960  There are mothers and fathers who will lie awa...  \n",
              "118961  A carbon footprint is the amount of carbon dio...  \n",
              "118962  Since there are usually multiple websites on a...  \n",
              "118963  If you want to sound like a native speaker, yo...  \n",
              "\n",
              "[118964 rows x 2 columns]"
            ],
            "text/html": [
              "\n",
              "  <div id=\"df-f252cb22-2146-4526-8e29-5db9b3c0cfa8\">\n",
              "    <div class=\"colab-df-container\">\n",
              "      <div>\n",
              "<style scoped>\n",
              "    .dataframe tbody tr th:only-of-type {\n",
              "        vertical-align: middle;\n",
              "    }\n",
              "\n",
              "    .dataframe tbody tr th {\n",
              "        vertical-align: top;\n",
              "    }\n",
              "\n",
              "    .dataframe thead th {\n",
              "        text-align: right;\n",
              "    }\n",
              "</style>\n",
              "<table border=\"1\" class=\"dataframe\">\n",
              "  <thead>\n",
              "    <tr style=\"text-align: right;\">\n",
              "      <th></th>\n",
              "      <th>source_sentence</th>\n",
              "      <th>target_sentence</th>\n",
              "    </tr>\n",
              "  </thead>\n",
              "  <tbody>\n",
              "    <tr>\n",
              "      <th>0</th>\n",
              "      <td>Ve.</td>\n",
              "      <td>Go.</td>\n",
              "    </tr>\n",
              "    <tr>\n",
              "      <th>1</th>\n",
              "      <td>Vete.</td>\n",
              "      <td>Go.</td>\n",
              "    </tr>\n",
              "    <tr>\n",
              "      <th>2</th>\n",
              "      <td>Vaya.</td>\n",
              "      <td>Go.</td>\n",
              "    </tr>\n",
              "    <tr>\n",
              "      <th>3</th>\n",
              "      <td>Váyase.</td>\n",
              "      <td>Go.</td>\n",
              "    </tr>\n",
              "    <tr>\n",
              "      <th>4</th>\n",
              "      <td>Hola.</td>\n",
              "      <td>Hi.</td>\n",
              "    </tr>\n",
              "    <tr>\n",
              "      <th>...</th>\n",
              "      <td>...</td>\n",
              "      <td>...</td>\n",
              "    </tr>\n",
              "    <tr>\n",
              "      <th>118959</th>\n",
              "      <td>Hay cuatro causas principales de muertes relac...</td>\n",
              "      <td>There are four main causes of alcohol-related ...</td>\n",
              "    </tr>\n",
              "    <tr>\n",
              "      <th>118960</th>\n",
              "      <td>Hay madres y padres que se quedan despiertos d...</td>\n",
              "      <td>There are mothers and fathers who will lie awa...</td>\n",
              "    </tr>\n",
              "    <tr>\n",
              "      <th>118961</th>\n",
              "      <td>Una huella de carbono es la cantidad de contam...</td>\n",
              "      <td>A carbon footprint is the amount of carbon dio...</td>\n",
              "    </tr>\n",
              "    <tr>\n",
              "      <th>118962</th>\n",
              "      <td>Como suele haber varias páginas web sobre cual...</td>\n",
              "      <td>Since there are usually multiple websites on a...</td>\n",
              "    </tr>\n",
              "    <tr>\n",
              "      <th>118963</th>\n",
              "      <td>Si quieres sonar como un hablante nativo, debe...</td>\n",
              "      <td>If you want to sound like a native speaker, yo...</td>\n",
              "    </tr>\n",
              "  </tbody>\n",
              "</table>\n",
              "<p>118964 rows × 2 columns</p>\n",
              "</div>\n",
              "      <button class=\"colab-df-convert\" onclick=\"convertToInteractive('df-f252cb22-2146-4526-8e29-5db9b3c0cfa8')\"\n",
              "              title=\"Convert this dataframe to an interactive table.\"\n",
              "              style=\"display:none;\">\n",
              "        \n",
              "  <svg xmlns=\"http://www.w3.org/2000/svg\" height=\"24px\"viewBox=\"0 0 24 24\"\n",
              "       width=\"24px\">\n",
              "    <path d=\"M0 0h24v24H0V0z\" fill=\"none\"/>\n",
              "    <path d=\"M18.56 5.44l.94 2.06.94-2.06 2.06-.94-2.06-.94-.94-2.06-.94 2.06-2.06.94zm-11 1L8.5 8.5l.94-2.06 2.06-.94-2.06-.94L8.5 2.5l-.94 2.06-2.06.94zm10 10l.94 2.06.94-2.06 2.06-.94-2.06-.94-.94-2.06-.94 2.06-2.06.94z\"/><path d=\"M17.41 7.96l-1.37-1.37c-.4-.4-.92-.59-1.43-.59-.52 0-1.04.2-1.43.59L10.3 9.45l-7.72 7.72c-.78.78-.78 2.05 0 2.83L4 21.41c.39.39.9.59 1.41.59.51 0 1.02-.2 1.41-.59l7.78-7.78 2.81-2.81c.8-.78.8-2.07 0-2.86zM5.41 20L4 18.59l7.72-7.72 1.47 1.35L5.41 20z\"/>\n",
              "  </svg>\n",
              "      </button>\n",
              "      \n",
              "  <style>\n",
              "    .colab-df-container {\n",
              "      display:flex;\n",
              "      flex-wrap:wrap;\n",
              "      gap: 12px;\n",
              "    }\n",
              "\n",
              "    .colab-df-convert {\n",
              "      background-color: #E8F0FE;\n",
              "      border: none;\n",
              "      border-radius: 50%;\n",
              "      cursor: pointer;\n",
              "      display: none;\n",
              "      fill: #1967D2;\n",
              "      height: 32px;\n",
              "      padding: 0 0 0 0;\n",
              "      width: 32px;\n",
              "    }\n",
              "\n",
              "    .colab-df-convert:hover {\n",
              "      background-color: #E2EBFA;\n",
              "      box-shadow: 0px 1px 2px rgba(60, 64, 67, 0.3), 0px 1px 3px 1px rgba(60, 64, 67, 0.15);\n",
              "      fill: #174EA6;\n",
              "    }\n",
              "\n",
              "    [theme=dark] .colab-df-convert {\n",
              "      background-color: #3B4455;\n",
              "      fill: #D2E3FC;\n",
              "    }\n",
              "\n",
              "    [theme=dark] .colab-df-convert:hover {\n",
              "      background-color: #434B5C;\n",
              "      box-shadow: 0px 1px 3px 1px rgba(0, 0, 0, 0.15);\n",
              "      filter: drop-shadow(0px 1px 2px rgba(0, 0, 0, 0.3));\n",
              "      fill: #FFFFFF;\n",
              "    }\n",
              "  </style>\n",
              "\n",
              "      <script>\n",
              "        const buttonEl =\n",
              "          document.querySelector('#df-f252cb22-2146-4526-8e29-5db9b3c0cfa8 button.colab-df-convert');\n",
              "        buttonEl.style.display =\n",
              "          google.colab.kernel.accessAllowed ? 'block' : 'none';\n",
              "\n",
              "        async function convertToInteractive(key) {\n",
              "          const element = document.querySelector('#df-f252cb22-2146-4526-8e29-5db9b3c0cfa8');\n",
              "          const dataTable =\n",
              "            await google.colab.kernel.invokeFunction('convertToInteractive',\n",
              "                                                     [key], {});\n",
              "          if (!dataTable) return;\n",
              "\n",
              "          const docLinkHtml = 'Like what you see? Visit the ' +\n",
              "            '<a target=\"_blank\" href=https://colab.research.google.com/notebooks/data_table.ipynb>data table notebook</a>'\n",
              "            + ' to learn more about interactive tables.';\n",
              "          element.innerHTML = '';\n",
              "          dataTable['output_type'] = 'display_data';\n",
              "          await google.colab.output.renderOutput(dataTable, element);\n",
              "          const docLink = document.createElement('div');\n",
              "          docLink.innerHTML = docLinkHtml;\n",
              "          element.appendChild(docLink);\n",
              "        }\n",
              "      </script>\n",
              "    </div>\n",
              "  </div>\n",
              "  "
            ]
          },
          "metadata": {},
          "execution_count": 10
        }
      ]
    },
    {
      "cell_type": "code",
      "execution_count": 12,
      "metadata": {
        "id": "TBNWdBTkDIqw",
        "colab": {
          "base_uri": "https://localhost:8080/",
          "height": 452
        },
        "outputId": "41f45bb8-42da-4739-c611-953e0e71f0d6"
      },
      "outputs": [
        {
          "output_type": "display_data",
          "data": {
            "text/plain": [
              "<Figure size 640x480 with 2 Axes>"
            ],
            "image/png": "[encoded data removed]"
          },
          "metadata": {}
        }
      ],
      "source": [
        "eng_len = []\n",
        "span_len = []\n",
        "\n",
        "# populate the lists with sentence lengths\n",
        "for i in src_sentences:\n",
        "      span_len.append(len(i.split()))\n",
        "\n",
        "for i in tgt_sentences:\n",
        "      eng_len.append(len(i.split()))\n",
        "\n",
        "length_df = pd.DataFrame({'english':eng_len, 'spanish':span_len})\n",
        "\n",
        "length_df.hist(bins = 20)\n",
        "plt.show()"
      ]
    },
    {
      "cell_type": "markdown",
      "source": [
        "### **Task 2: Process the data**\n",
        "\n",
        "Once we have loaded the dataset, and obtained the source and target sentences, we process the data with the following steps:\n",
        "\n",
        "* Apply basic text preprocessing techniques to clean the data.\n",
        "* Tokenize each sentence to their vector representation, add <*start*> & <*end*> tokens & *pad* each sentence to a maximum length.\n",
        "* Split the source & target sentences to train & validation data\n",
        "* Create a `tf.dataset` from the `tf.data` [API](https://www.tensorflow.org/guide/data). This API helps you build & work with complex input pipelines which allows you to handle large amounts of data and perform complex transformations on them."
      ],
      "metadata": {
        "id": "kEHV13DLoXH7"
      }
    },
    {
      "cell_type": "markdown",
      "source": [
        "##### 2.1 Clean the data\n"
      ],
      "metadata": {
        "id": "s92ISsw6ga4T"
      }
    },
    {
      "cell_type": "code",
      "source": [
        "import re, itertools\n",
        "from collections import Counter\n",
        "import tensorflow as tf\n",
        "from tensorflow.keras.preprocessing.text import Tokenizer\n",
        "from tensorflow.keras.preprocessing.sequence import pad_sequences\n",
        "from sklearn.model_selection import train_test_split"
      ],
      "metadata": {
        "id": "BJWCbDfRgeA1"
      },
      "execution_count": 13,
      "outputs": []
    },
    {
      "cell_type": "markdown",
      "source": [
        "###### 2.1.1 Text Standardization\n",
        "\n",
        "The model is dealing with multilingual text with a limited vocabulary. So it will be important to standardize the input text. The first step is Unicode normalization to split accented characters and replace compatibility characters with their ASCII equivalents.\n",
        "\n",
        "For example\n",
        "\n",
        "- Input: Yo lo sé.\n",
        "- Output: <*sos*> yo lo se . <*eos*>"
      ],
      "metadata": {
        "id": "4B2UImjiob3q"
      }
    },
    {
      "cell_type": "code",
      "source": [
        "import unicodedata\n",
        "\n",
        "def unicode_to_ascii(s):\n",
        "    # Normalize the input string `s` to its decomposed form\n",
        "    normalized = unicodedata.normalize('NFD', s)\n",
        "    # Return a new string that only contains ASCII characters\n",
        "    # Exclude characters with the category \"Mark, Nonspacing\"\n",
        "    return ''.join(c for c in normalized if unicodedata.category(c) != 'Mn')\n",
        "\n",
        "def preprocess_text(text):\n",
        "  \"\"\"\n",
        "  Preprocess the input text data by removing special characters, lowercasing it and adding start and end tokens\n",
        "\n",
        "  Arguments:\n",
        "    text (str): Input text string\n",
        "\n",
        "  Returns:\n",
        "    preprocessed_text (str): Preprocessed text string with added start and end tokens\n",
        "  \"\"\"\n",
        "  # Lowercase all the text using unicode to ascii conversion. You can call the unicode_to_ascii function defined earlier\n",
        "  # Insert Code Here ----\n",
        "  text = text.lower()\n",
        "  # Replacing special characters with space except (a-z, A-Z, \".\", \"?\", \"!\", \",\")\n",
        "  pattern = r\"[^a-zA-Z.?!,-]+\"\n",
        "  # Replace the special characters with spaces\n",
        "  text = re.sub(pattern, \" \", text)\n",
        "  # Search for (?, ., !, ,, or ¿)and insert a space before and after each match.\n",
        "  pattern = r\"[?.!,¿]\"\n",
        "  text = re.sub(pattern, \" \", text)\n",
        "  # Search for one or more consecutive spaces and replace them with a single space.\n",
        "  text = re.sub(r\"\\s+\", \" \", text)\n",
        "\n",
        "  # Strip whitespace.\n",
        "  text = text.strip()\n",
        "\n",
        "  # Add the <start> & <end> tokens\n",
        "  text = \"<sos>\"+\" \"+text+\" \"+\"<eos>\"\n",
        "\n",
        "  return text\n"
      ],
      "metadata": {
        "id": "GK_-O2T4lcim"
      },
      "execution_count": 14,
      "outputs": []
    },
    {
      "cell_type": "code",
      "source": [
        "## test the above code for sample input\n",
        "text = unicode_to_ascii(\"Yo lo sé.?\")\n",
        "print(text)\n",
        "preprocess_text(text)"
      ],
      "metadata": {
        "colab": {
          "base_uri": "https://localhost:8080/",
          "height": 55
        },
        "id": "cobOWpPwR-1s",
        "outputId": "bfcc1f6a-d347-416d-e901-fa79f7928211"
      },
      "execution_count": 15,
      "outputs": [
        {
          "output_type": "stream",
          "name": "stdout",
          "text": [
            "Yo lo se.?\n"
          ]
        },
        {
          "output_type": "execute_result",
          "data": {
            "text/plain": [
              "'<sos> yo lo se <eos>'"
            ],
            "application/vnd.google.colaboratory.intrinsic+json": {
              "type": "string"
            }
          },
          "metadata": {},
          "execution_count": 15
        }
      ]
    },
    {
      "cell_type": "code",
      "source": [
        "# Write a Code below for cleaning the source and target sentences. You can call the 'preprocess_text' function defined earlier\n",
        "\n",
        "# preprocess source\n",
        "clean_src_sentences = [unicode_to_ascii(src) for src in src_sentences]\n",
        "clean_src_sentences = [preprocess_text(src) for src in clean_src_sentences]\n",
        "\n",
        "# Also now write a code for checking a sample of an orginal sentence and the processed sentence\n",
        "# For example: the output could be as original text: Yo lo sé. Text after pre-processing: <sos> yo lo se . <eos>\n",
        "\n",
        "# Checking\n",
        "print(f\"original sentence: {src_sentences[10]}\")\n",
        "print(f\"preprocessed sentence: {clean_src_sentences[10]}\")\n"
      ],
      "metadata": {
        "id": "w6lmcUtWg4dL",
        "colab": {
          "base_uri": "https://localhost:8080/"
        },
        "outputId": "c19ae258-99e8-4ab7-8335-d07908ca0f6e"
      },
      "execution_count": 16,
      "outputs": [
        {
          "output_type": "stream",
          "name": "stdout",
          "text": [
            "original sentence: ¡Disparad!\n",
            "preprocessed sentence: <sos> disparad <eos>\n"
          ]
        }
      ]
    },
    {
      "cell_type": "code",
      "source": [
        "### Preprocess target data\n",
        "clean_tgt_sentences = [unicode_to_ascii(tgt) for tgt in tgt_sentences]\n",
        "clean_tgt_sentences = [preprocess_text(tgt) for tgt in clean_tgt_sentences]\n",
        "\n",
        "# Checking\n",
        "print(f\"original target sentence: {tgt_sentences[10]}\")\n",
        "print(f\"preprocessed target sentence: {clean_tgt_sentences[10]}\")\n"
      ],
      "metadata": {
        "colab": {
          "base_uri": "https://localhost:8080/"
        },
        "id": "LkKOvbEsT2rQ",
        "outputId": "c377a63a-4c4c-4a1f-c047-8da01fecc3d5"
      },
      "execution_count": 17,
      "outputs": [
        {
          "output_type": "stream",
          "name": "stdout",
          "text": [
            "original target sentence: Fire!\n",
            "preprocessed target sentence: <sos> fire <eos>\n"
          ]
        }
      ]
    },
    {
      "cell_type": "markdown",
      "source": [
        "#### 2.2 Tokenize the data\n",
        "\n",
        "Once, the sentences are splitted and special tokens are added, the process of tokenization is carried out using the **Tokenizer** class from the **tensorflow.keras.preprocessing.text** module.\n",
        "\n",
        "Steps:\n",
        "\n",
        "* The Tokenizer object is initialized and fit to the text data.\n",
        "* The texts are then tokenized, meaning that each word is assigned a unique number.\n",
        "* The resulting sequences are then padded and truncated to make all of them of equal length.\n",
        "\n",
        "We'll create a function named `tokenize` to perform all the above steps together. Here's an example of how the function will transform an input sentence:\n",
        "\n",
        "- Input: <*sos*> yo lo se . <*eos*>\n",
        "- Output:  [ 1 26 18 17  3  2  0  0  0  0  0  0  0  0  0  0]"
      ],
      "metadata": {
        "id": "A9OI6bI1ogdr"
      }
    },
    {
      "cell_type": "code",
      "execution_count": 18,
      "metadata": {
        "id": "JBLydqdcPaFr"
      },
      "outputs": [],
      "source": [
        "def tokenize(sentences):\n",
        "    \"\"\"\n",
        "    Tokenizes the input sentences and returns the tokenized sequences, tokenizer object, and the max length of the sequences.\n",
        "\n",
        "    Parameters:\n",
        "    sentences (list): A list of sentences to be tokenized.\n",
        "\n",
        "    Returns:\n",
        "    sequences (numpy array): The tokenized sequences.\n",
        "    lang_tokenizer (Tokenizer object): Tokenizer object fit on the input sentences.\n",
        "    max_length (int): Maximum length of the sequences.\n",
        "\n",
        "    \"\"\"\n",
        "    # Initialize the tokenizer object\n",
        "    lang_tokenizer = Tokenizer( filters='')\n",
        "    # Fit the tokenizer on the input sentences\n",
        "    lang_tokenizer.fit_on_texts(sentences)\n",
        "    # Tokenize the sentences\n",
        "    sequences = lang_tokenizer.texts_to_sequences(sentences)\n",
        "    # Find the max length of the sequences\n",
        "    max_length = max(len(s) for s in sequences)\n",
        "    # Pad and truncate the sequences\n",
        "    sequences = pad_sequences(sequences, maxlen=max_length, padding='post', truncating='post')\n",
        "\n",
        "    return sequences, lang_tokenizer, max_length\n"
      ]
    },
    {
      "cell_type": "markdown",
      "source": [
        "###### 2.2.1 Create source and target sequences using tokenize()\n",
        "\n",
        "Before we apply the **tokenize()** function, we need to make an important consideration. We won't be able to apply the processing and tokenization function to the entire dataset as it will exhaust all the available RAM. Hence, it is recommended to limit the data. Training on the complete dataset of >100,000 sentences will take a long time.\n",
        "\n",
        "To train faster, we can limit the size of the dataset to `40,000` sentences\n",
        "\n",
        "(***Note***: *Translation quality degrades with less data, however for demonstration purposes, we have gone for a faster training process*).\n",
        "\n",
        "To filter the data, process & tokenize them, we can build a function `load_sequences` that perform all the three tasks inside it. This function will return the source, target sequences,  their maximum length & the tokenisers used for them."
      ],
      "metadata": {
        "id": "XERZmyOyos0c"
      }
    },
    {
      "cell_type": "code",
      "source": [
        "def load_sequences(path, size=None):\n",
        "    \"\"\"\n",
        "    Loads and preprocesses the dataset.\n",
        "\n",
        "    Parameters:\n",
        "    - path (str): The path to the dataset file.\n",
        "    - size (int, optional): The number of data points to load. Default is None which loads all the data.\n",
        "\n",
        "    Returns:\n",
        "    - src_sequences (np.array): Array of preprocessed and tokenized source sentences.\n",
        "    - tgt_sequences (np.array): Array of preprocessed and tokenized target sentences.\n",
        "    - src_lang_tokenizer (Tokenizer): Tokenizer object fit on source sentences.\n",
        "    - tgt_lang_tokenizer (Tokenizer): Tokenizer object fit on target sentences.\n",
        "    - max_length_src (int): Maximum length of source sequences.\n",
        "    - max_length_trg (int): Maximum length of target sequences.\n",
        "    \"\"\"\n",
        "    # Load the data again using the load_data function with the size argument\n",
        "    src_sentences, tgt_sentences = load_data(path, size)\n",
        "\n",
        "    # Preprocess the source and target sentences\n",
        "    clean_src_sentences = [unicode_to_ascii(src) for src in src_sentences]\n",
        "    clean_src_sentences = [preprocess_text(src) for src in clean_src_sentences]\n",
        "\n",
        "    clean_tgt_sentences = [unicode_to_ascii(tgt) for tgt in tgt_sentences]\n",
        "    clean_tgt_sentences = [preprocess_text(tgt) for tgt in clean_tgt_sentences]\n",
        "\n",
        "    # Tokenize the source and target sentences\n",
        "    src_sequences, src_lang_tokenizer, max_length_src =tokenize(clean_src_sentences)\n",
        "    tgt_sequences, tgt_lang_tokenizer, max_length_trg = tokenize(clean_tgt_sentences)\n",
        "    return src_sequences, tgt_sequences, src_lang_tokenizer, tgt_lang_tokenizer, max_length_src, max_length_trg\n"
      ],
      "metadata": {
        "id": "1I1kFyACg-h9"
      },
      "execution_count": 19,
      "outputs": []
    },
    {
      "cell_type": "code",
      "execution_count": 20,
      "metadata": {
        "id": "sRLJiJobV-E_"
      },
      "outputs": [],
      "source": [
        "#Write a code below to print the src sequences and tgt sequences shape\n",
        "\n",
        "src_sequences, tgt_sequences, src_lang_tokenizer, tgt_lang_tokenizer, max_length_src, max_length_trg = load_sequences(file_path, size=40000)"
      ]
    },
    {
      "cell_type": "code",
      "source": [
        "print(\"Original sentence:\", src_sentences[42])\n",
        "print(\"Text after preprocessing:\", clean_src_sentences[42])\n",
        "print(\"Text after tokenization:\", src_sequences[42])"
      ],
      "metadata": {
        "id": "Y4voaKoFhTbw",
        "colab": {
          "base_uri": "https://localhost:8080/"
        },
        "outputId": "e8098c00-5689-461c-afbd-a1843c3a33f8"
      },
      "execution_count": 21,
      "outputs": [
        {
          "output_type": "stream",
          "name": "stdout",
          "text": [
            "Original sentence: Yo lo sé.\n",
            "Text after preprocessing: <sos> yo lo se <eos>\n",
            "Text after tokenization: [ 1 34 17 13  2  0  0  0  0  0  0  0  0  0  0  0  0  0  0  0  0  0  0  0\n",
            "  0  0  0  0  0  0  0  0  0  0  0  0  0  0  0  0  0  0  0  0  0  0  0  0\n",
            "  0  0  0]\n"
          ]
        }
      ]
    },
    {
      "cell_type": "markdown",
      "source": [
        "###### 2.2.2 Understanding what's happening inside\n",
        "\n",
        "We're taking another detour here, to understand how the tokenisation layer converts a batch of strings into a batch of token IDs.\n",
        "\n",
        "Using the **.index_word()** method, we can convert the token IDs back to words for understanding the mapping and what's under the hood.\n",
        "\n",
        "**Note**: This is not required for the final model building process, and is only shown for your understanding"
      ],
      "metadata": {
        "id": "H0UrZJHso0qX"
      }
    },
    {
      "cell_type": "code",
      "execution_count": 22,
      "metadata": {
        "id": "fkVGrmeJoutL",
        "colab": {
          "base_uri": "https://localhost:8080/"
        },
        "outputId": "aa875f07-4086-4050-b38a-6f1a89b37917"
      },
      "outputs": [
        {
          "output_type": "stream",
          "name": "stdout",
          "text": [
            "Input Language; index to word mapping\n",
            "1 ----> <sos>\n",
            "34 ----> yo\n",
            "17 ----> lo\n",
            "13 ----> se\n",
            "2 ----> <eos>\n",
            "\n",
            "Target Language; index to word mapping\n",
            "1 ----> <sos>\n",
            "3 ----> i\n",
            "42 ----> know\n",
            "2 ----> <eos>\n"
          ]
        }
      ],
      "source": [
        "#Testing if the word to index / index to word mappings have been obtained correctly.\n",
        "def convert(lang, tensor):\n",
        "  for t in tensor:\n",
        "    if t!=0:\n",
        "      print (\"%d ----> %s\" % (t, lang.index_word[t]))\n",
        "\n",
        "print (\"Input Language; index to word mapping\")\n",
        "convert(src_lang_tokenizer, src_sequences[42])\n",
        "print ()\n",
        "print (\"Target Language; index to word mapping\")\n",
        "convert(tgt_lang_tokenizer, tgt_sequences[42])"
      ]
    },
    {
      "cell_type": "code",
      "execution_count": 24,
      "metadata": {
        "id": "YStmxYzh89LP",
        "colab": {
          "base_uri": "https://localhost:8080/"
        },
        "outputId": "9d008b7f-c7a2-4550-be75-698c4b9eab7f"
      },
      "outputs": [
        {
          "output_type": "stream",
          "name": "stdout",
          "text": [
            "24816\n",
            "13196\n"
          ]
        }
      ],
      "source": [
        "# getting the size of the input and output vocabularies.\n",
        "src_vocab_size = len(src_lang_tokenizer.word_index) + 1\n",
        "tgt_vocab_size = len(tgt_lang_tokenizer.word_index) + 1\n",
        "print(src_vocab_size)\n",
        "print(tgt_vocab_size)"
      ]
    },
    {
      "cell_type": "markdown",
      "source": [
        "#### 2.4 Train-Test Split\n",
        "Now that we have processed the data, it's time to split it into train and test datasets. This way, we can use the train data to train our model and evaluate the model performance on the test data.\n",
        "\n",
        "The ***train_test_split()*** function from the sklearn library is used to split the data. `src_sequences` and `tgt_sequences` are the input and target sequences respectively. The test_size parameter specifies the proportion of the data that should be used for testing, and random_state is used to set the random seed for reproducibility."
      ],
      "metadata": {
        "id": "bEB_S__Ehkmk"
      }
    },
    {
      "cell_type": "code",
      "source": [
        "# Write a code below to extract & print the source and target sentences length for train and validation data\n",
        "source_sequences_train, source_sequences_val, tgt_sequences_train, tgt_sequences_val = train_test_split(src_sequences, tgt_sequences, test_size=0.2, random_state=42)\n",
        "\n"
      ],
      "metadata": {
        "id": "IdY1FLnXhoi9"
      },
      "execution_count": 25,
      "outputs": []
    },
    {
      "cell_type": "markdown",
      "metadata": {
        "id": "rRtqeShj36Ge"
      },
      "source": [
        "#### 2.5 Create a ***tf.dataset***\n",
        "\n",
        "The input pipeline starts from importing the data and creating a dataset from the data stored in the memory. For this, you can use `tf.data.Dataset.from_tensor_slices()`, which creates a **tf.data.Dataset** the object whose elements are slices of the passed tensors. Once you have created the object, you can transform it by applying different operations to the dataset object. (for example, Dataset.map() orDataset.batch()).\n",
        "\n",
        "From the arrays of sequences created ater tokenisation, you can create a tf.data.Dataset of strings that shuffles and batches them efficiently"
      ]
    },
    {
      "cell_type": "markdown",
      "source": [
        "###### 2.5.1 Defining Hyperparameters\n",
        "The following hyperparameters for the creating the **tf.dataset** (and later for model building purposes as well) are specified:\n",
        "- `buffer_size`: This represents the buffer size for the training data. It is calculated by taking the length of the `source_sequences_train` array.\n",
        "- `val_buffer_size`: This represents the buffer size for the validation data. It is calculated by taking the length of the `source_sequences_val` array.\n",
        "- `BATCH_SIZE`: This represents the batch size for the training process. It is set to 64.\n",
        "- `embedding_dim`: This represents the embedding dimension for the input data. It is set to 128.\n",
        "- `units`: This represents the number of units in the recurrent neural network (RNN) used for the model. It is set to 1024.\n",
        "- `steps_per_epoch`: This represents the number of steps to take during each epoch of training. It is calculated as the `buffer_size` divided by the `BATCH_SIZE`.\n",
        "- `val_steps_per_epoch`: This represents the number of validation steps to take during each epoch of training. It is calculated as the `val_buffer_size` divided by the `BATCH_SIZE`.\n",
        "It is important to note that these hyperparameters have been selected based on heuristics and may need to be fine-tuned for different problems or data sets."
      ],
      "metadata": {
        "id": "5hrKGHrHkOFF"
      }
    },
    {
      "cell_type": "code",
      "source": [
        "#Defining hyperparameters\n",
        "buffer_size=len(source_sequences_train)\n",
        "val_buffer_size = len(source_sequences_val)\n",
        "BATCH_SIZE = 64\n",
        "embedding_dim = 128\n",
        "units = 1024\n",
        "steps_per_epoch = buffer_size//BATCH_SIZE\n",
        "val_steps_per_epoch = val_buffer_size//BATCH_SIZE"
      ],
      "metadata": {
        "id": "0Klt6y-7kR5V"
      },
      "execution_count": 26,
      "outputs": []
    },
    {
      "cell_type": "code",
      "source": [
        "# Create a dataset object for the training set\n",
        "train_dataset = tf.data.Dataset.from_tensor_slices((source_sequences_train, tgt_sequences_train))\n",
        "\n",
        "# Shuffle and batch the training set\n",
        "train_dataset = train_dataset.shuffle(buffer_size=buffer_size).batch(BATCH_SIZE)\n",
        "\n",
        "# Create a dataset object for the validation set\n",
        "val_dataset = tf.data.Dataset.from_tensor_slices((source_sequences_val, tgt_sequences_val))\n",
        "\n",
        "# Batch the validation set\n",
        "val_dataset = val_dataset.batch(BATCH_SIZE)"
      ],
      "metadata": {
        "id": "JLixC-5tkab1"
      },
      "execution_count": 27,
      "outputs": []
    },
    {
      "cell_type": "code",
      "source": [
        "# Printing the shape of an input batch\n",
        "example_input_batch, example_target_batch = next(iter(train_dataset))\n",
        "example_input_batch.shape, example_target_batch.shape"
      ],
      "metadata": {
        "id": "KWVzH0jJkem-",
        "colab": {
          "base_uri": "https://localhost:8080/"
        },
        "outputId": "b252bee3-0851-4029-8c13-3d9ac8ee0c98"
      },
      "execution_count": 28,
      "outputs": [
        {
          "output_type": "execute_result",
          "data": {
            "text/plain": [
              "(TensorShape([64, 51]), TensorShape([64, 49]))"
            ]
          },
          "metadata": {},
          "execution_count": 28
        }
      ]
    },
    {
      "cell_type": "markdown",
      "source": [
        "### **Task 3: Build the NMT model**\n",
        "\n",
        "Let's take a recap of what we have done so far and what we have to do further.\n",
        "\n",
        "![picture](https://drive.google.com/uc?id=1TxuSn45YlitOoPI63MfLIMJUGMWiuPt0)\n",
        "\n",
        "Once we have preprocessed the model, the next task is to pass it to the NMT model so that it can perform the task of machine translation:\n",
        "\n",
        "> #### Encoder-Decoder model with attention\n",
        "\n",
        "The encoder model consists of an embedding layer, a GRU layer with 1024 units.\n",
        "\n",
        "The decoder model consists of an attention layer, a embedding layer, a GRU layer and a dense layer.\n",
        "\n",
        "The attention model consists of three dense layers (BahdanauAttention Model) .\n",
        "\n",
        "\n",
        "---\n",
        "![picture](https://drive.google.com/uc?id=1AnbdmNzOi9WyEZ8RiMWL3MsndVliggs7)"
      ],
      "metadata": {
        "id": "OyfKKzO6kjTO"
      }
    },
    {
      "cell_type": "markdown",
      "source": [
        "#### 3.1 Build the Encoder\n",
        "The goal of the encoder is to process the context sequence into a sequence of vectors that are useful for the decoder as it attempts to predict the next output for each timestep.\n",
        "\n",
        "---\n",
        "\n",
        "\n",
        "The **Encoder** class is defined as a subclass of tf.keras.Model. It takes the following parameters as inputs:\n",
        "\n",
        "> **Class constructor:**\n",
        "\n",
        "* **vocab_size:** Integer representing the size of the vocabulary in the input language.\n",
        "* **emb_dim:** Integer representing the dimension of the embedding space.\n",
        "* **enc_units:** Integer representing the number of encoding GRU units.\n",
        "* **batch_sz:** Integer representing the batch size used during training.\n",
        "\n",
        "\n",
        "> It also initializes the following layers:\n",
        "\n",
        "* An **Embedding layer**, which maps the input language word indices to dense vectors in the embedding space. mask_zero argument is set to True to mask the padding in the input sequence.\n",
        "* A **GRU layer**, which performs the encoding of the input sequences.\n",
        "\n",
        "> The **call** method is defined to perform the forward pass of the Encoder. It takes two inputs:\n",
        "\n",
        "* x: Input sequences of shape (batch_size, sequence_length).\n",
        "* hidden: The initial hidden state, with shape **(batch_size, enc_units)**.\n",
        "\n",
        "> It does the following operations:\n",
        "1. The method first maps the input sequences to the embedding space using the Embedding layer. The resulting output has shape (batch_size, sequence_length, emb_dim).\n",
        "2. Then, the encoded sequence and the final hidden state are obtained by passing the embedded input through the GRU layer. The shape of the encoded sequence is **(batch_size, sequence_length, enc_units)** and the shape of the final hidden state is **(batch_size, enc_units).**\n",
        "3. The initialize_hidden_state method is used to initialize the hidden state of the GRU layer to all zeros, with shape **(batch_size, enc_units).**\n"
      ],
      "metadata": {
        "id": "z8EIkR3CuSkP"
      }
    },
    {
      "cell_type": "code",
      "execution_count": 33,
      "metadata": {
        "id": "cCxzpM5ioMQ0"
      },
      "outputs": [],
      "source": [
        "# Define the Encoder model\n",
        "class Encoder(tf.keras.Model):\n",
        "    \"\"\"\n",
        "    The Encoder model for the Seq2Seq model\n",
        "\n",
        "    \"\"\"\n",
        "    def __init__(self, vocab_size, emb_dim, enc_units, batch_sz):\n",
        "        super(Encoder, self).__init__()\n",
        "        # Store the number of GRU units in the encoder\n",
        "        self.enc_units = enc_units\n",
        "        # Store the batch size\n",
        "        self.batch_sz = batch_sz\n",
        "        # Define the embedding layer for the input sequence\n",
        "        self.embedding = tf.keras.layers.Embedding(vocab_size, emb_dim,mask_zero=True)\n",
        "        # Define the GRU layer for encoding the input sequence\n",
        "        self.gru = tf.keras.layers.GRU(self.enc_units,\n",
        "                                       return_sequences=True,\n",
        "                                       return_state=True,\n",
        "                                       recurrent_initializer='glorot_uniform')\n",
        "\n",
        "#we have initialized the encoder above, follow the instructions given in the comments below and complete the call function\n",
        "    def call(self, x, hidden):\n",
        "        \"\"\"\n",
        "        Forward pass for the Encoder model\n",
        "\n",
        "        \"\"\"\n",
        "        # Pass the input sequence through the embedding layer\n",
        "        # Insert Code Here ----\n",
        "        x = self.embedding(x)\n",
        "\n",
        "        # Embed the input sequence, resulting in shape (batch_size, sequence_length, emb_dim)\n",
        "        # Pass the embedded input sequence and initial hidden state through the GRU layer to return the output & hidden state.\n",
        "        # Insert Code Here ----\n",
        "        output, state = self.gru(x, initial_state = hidden)\n",
        "        # The output shape is (batch_size, sequence_length, enc_units)\n",
        "        # The state shape is (batch_size, enc_units)\n",
        "        return output, state\n",
        "\n",
        "    def initialize_hidden_state(self):\n",
        "        \"\"\"\n",
        "        Initialize the hidden state of the GRU to all zeros\n",
        "\n",
        "        \"\"\"\n",
        "        # Initialize the hidden state of the GRU to all zeros\n",
        "        return tf.zeros((self.batch_sz, self.enc_units))\n"
      ]
    },
    {
      "cell_type": "code",
      "execution_count": 34,
      "metadata": {
        "id": "8csB4tFeoQgV",
        "colab": {
          "base_uri": "https://localhost:8080/"
        },
        "outputId": "264a84cb-d9bd-45f0-e858-4444bde68c16"
      },
      "outputs": [
        {
          "output_type": "stream",
          "name": "stdout",
          "text": [
            "Encoder output shape: (batch size, sequence length, units) (64, 51, 1024)\n",
            "Encoder Hidden state shape: (batch size, units) (64, 1024)\n"
          ]
        }
      ],
      "source": [
        "#Create an Encoder class object\n",
        "encoder = Encoder(src_vocab_size, embedding_dim, units, BATCH_SIZE)\n",
        "\n",
        "# sample input to get a sense of the shapes.\n",
        "sample_hidden = encoder.initialize_hidden_state()\n",
        "sample_output, sample_hidden = encoder(example_input_batch, sample_hidden)\n",
        "print ('Encoder output shape: (batch size, sequence length, units) {}'.format(sample_output.shape))\n",
        "print ('Encoder Hidden state shape: (batch size, units) {}'.format(sample_hidden.shape))"
      ]
    },
    {
      "cell_type": "markdown",
      "source": [
        "#### 3.2 Bahdanau Attention Layer\n",
        "This class implements the Bahdanau Attention mechanism in TensorFlow as a custom layer. The class extends the **tf.keras.layers.Layer** class and overrides the call method to implement the Bahdanau attention mechanism.\n",
        "\n",
        "We will use the subclassing approach again for building the Attention layer as we have done for the Encoder. This will help us in training all of the sub-layers inside it together during the end-to-end training process of the NMT model.\n",
        "\n",
        ">**Architecture**\n",
        "The Bahdanau Attention layer consists of three fully-connected dense layers:\n",
        "1. **W1**: the first dense layer with units number of units.\n",
        "2. **W2**: the second dense layer with units number of units.\n",
        "3. **V**: the third dense layer with 1 unit.\n",
        "\n",
        "> **Inputs:**\n",
        "The input to the call method are two tensors:\n",
        "1. **Query**: a tensor with shape (batch_size, hidden size) representing the hidden state.\n",
        "2. **Values**: a tensor with shape (batch_size, max_len, hidden size) representing the values to attend over.\n",
        "\n",
        "> **Outputs:**\n",
        "The outputs of the call method are:\n",
        "1. **Context_vector**: a tensor with shape (batch_size, hidden_size) representing the context vector.\n",
        "2. **Attention_weights**: a tensor with shape (batch_size, max_length, 1) representing the attention weights.\n",
        "\n",
        ">**Algorithm**\n",
        "* The query tensor is expanded along the time axis to broadcast addition with the values tensor.\n",
        "* The score is calculated by applying the tanh activation on the result of the addition of W1(query_with_time_axis) and W2(values).\n",
        "* The attention weights are obtained by applying the softmax activation on the score.\n",
        "* The context vector is obtained by multiplying the attention weights with the values tensor and summing over the max length axis.\n",
        "* Finally, both the context vector and the attention weights are returned."
      ],
      "metadata": {
        "id": "allCYsI1Itvt"
      }
    },
    {
      "cell_type": "code",
      "source": [
        "# a class defined for the attention layer\n",
        "# returns attention weights and context vector.\n",
        "\n",
        "class BahdanauAttention(tf.keras.layers.Layer):\n",
        "  \"\"\"\n",
        "    Attention model for the Seq2Seq model\n",
        "\n",
        "  \"\"\"\n",
        "  def __init__(self, units):\n",
        "    super(BahdanauAttention, self).__init__()\n",
        "    self.W1 = tf.keras.layers.Dense(units) # fully-connected dense layer-1\n",
        "    self.W2 = tf.keras.layers.Dense(units) # fully-connected dense layer-2\n",
        "    self.V = tf.keras.layers.Dense(1) # fully-connected dense layer-3\n",
        "\n",
        "  def call(self, query, values):\n",
        "    \"\"\"\n",
        "        Forward pass for the Attention model\n",
        "\n",
        "    \"\"\"\n",
        "    # query hidden state shape == (batch_size, hidden size)\n",
        "    # query_with_time_axis shape == (batch_size, 1, hidden size)\n",
        "    # values shape == (batch_size, max_len, hidden size)\n",
        "    # we are doing this to broadcast addition along the time axis to calculate the score\n",
        "\n",
        "    #write a code below to expand the dimension of query by 1 dimension. You can use tf.expand_dims() to execute this.\n",
        "\n",
        "    query_with_time_axis = tf.expand_dims(query, 1)# Write code here ----\n",
        "\n",
        "    # score shape == (batch_size, max_length, 1)\n",
        "    # we get 1 at the last axis because we are applying score to self.V\n",
        "    # the shape of the tensor before applying self.V is (batch_size, max_length, units)\n",
        "    score = self.V(tf.nn.tanh(self.W1(query_with_time_axis) + self.W2(values)))\n",
        "\n",
        "    # write code to calculate the attention weights using the softmax and score\n",
        "    # attention_weights shape == (batch_size, max_length, 1)\n",
        "\n",
        "    attention_weights = tf.nn.softmax(score, axis=1)# Write code here ----\n",
        "\n",
        "    context_vector = attention_weights * values # Write the code here to perform weighed multiplication of values\n",
        "\n",
        "    # context_vector shape after sum == (batch_size, hidden_size)\n",
        "    context_vector = tf.reduce_sum(context_vector, axis=1)\n",
        "\n",
        "    return context_vector, attention_weights"
      ],
      "metadata": {
        "id": "8KF4I_RkmiFW"
      },
      "execution_count": 35,
      "outputs": []
    },
    {
      "cell_type": "code",
      "source": [
        "attention_layer = BahdanauAttention(20) # create an attention layer object\n",
        "attention_result, attention_weights = attention_layer(sample_hidden, sample_output) # pass sample encoder output and hidden layer to get a sense of the shape of the output of the attention layer.\n",
        "\n",
        "print(\"Attention result shape (context vector): (batch size, units) {}\".format(attention_result.shape))\n",
        "print(\"Attention weights shape: (batch_size, sequence_length, 1) {}\".format(attention_weights.shape))"
      ],
      "metadata": {
        "id": "X2swoaxOmkhI",
        "colab": {
          "base_uri": "https://localhost:8080/"
        },
        "outputId": "f3b8fb15-c019-4fbb-a0e4-1cedc66d778f"
      },
      "execution_count": 36,
      "outputs": [
        {
          "output_type": "stream",
          "name": "stdout",
          "text": [
            "Attention result shape (context vector): (batch size, units) (64, 1024)\n",
            "Attention weights shape: (batch_size, sequence_length, 1) (64, 51, 1)\n"
          ]
        }
      ]
    },
    {
      "cell_type": "markdown",
      "source": [
        "#### 3.3: Build the decoder\n",
        "The decoder's job is to generate predictions for the next token at each location in the target sequence.\n",
        "\n",
        "---\n",
        "\n",
        "\n",
        "This code defines a Decoder class that implements a decoder model for a sequence-to-sequence architecture. The decoder model will take in an input sequence and the hidden state from the encoder and generate the target sequence.\n",
        "\n",
        "> **Class constructor**:The __init__ method initializes the class variables:\n",
        "\n",
        "* **vocab_size**: The size of the target vocabulary.\n",
        "*embedding_dim: The size of the embedding layer that converts the target sequence into dense vectors.\n",
        "* **dec_units:** The number of GRU units in the decoder.\n",
        "* **batch_sz:** The batch size of the input data.\n",
        "\n",
        "> It also initializes the following layers:\n",
        "* **attention**: An instance of the BahdanauAttention class.\n",
        "* **Embedding**: An embedding layer to convert the target sequences into dense vectors.\n",
        "* **GRU**: A GRU layer to perform the decoding.\n",
        "* **FC**: A dense layer to generate the final target sequence.\n",
        "\n",
        ">**call** method: The call method implements the forward pass of the decoder. It  takes in 3 inputs: x, hidden, and enc_output.\n",
        "\n",
        "* x: Input sequences of shape (batch_size, sequence_length).\n",
        "* hidden:  hidden state from the encoder hidden.  **(batch_size, dec_units)\n",
        "* enc_output: The output of the encoder (shape: (batch_size, max_length, hidden_size)).\n",
        "\n",
        ">It does the following operations:\n",
        "1. Computes the context vector and the attention weights from the attention layer,\n",
        "2. Embeds the input x using the embedding layer.\n",
        "3. Concatenates the context vector with the embedded target sequence\n",
        "4. Passes the concatenated sequence and the hidden state from the encoder to the GRU layer. This generates the output and the new hidden state.\n",
        "3. Reshapes the output to a 2D tensor.\n",
        "4. Passes the reshaped output through the dense layer to generate the final target sequence.\n",
        "5. It returns the final target sequence and the new hidden state."
      ],
      "metadata": {
        "id": "6lPmkwHDJ9RH"
      }
    },
    {
      "cell_type": "code",
      "execution_count": 37,
      "metadata": {
        "id": "JizsQfXQumf0"
      },
      "outputs": [],
      "source": [
        "# Define the Decoder model\n",
        "class Decoder(tf.keras.Model):\n",
        "  def __init__(self, vocab_size, emb_dim, dec_units, batch_sz):\n",
        "    super(Decoder, self).__init__()\n",
        "\n",
        "    # initialize the batch size\n",
        "    self.batch_sz = batch_sz\n",
        "\n",
        "    # initialize the number of decoder units\n",
        "    self.dec_units = dec_units\n",
        "\n",
        "    # initialize the attention layer\n",
        "    self.attention = BahdanauAttention(self.dec_units)\n",
        "\n",
        "    # initialize the embedding layer\n",
        "    self.embedding = tf.keras.layers.Embedding(vocab_size, emb_dim)\n",
        "\n",
        "    # initialize the GRU layer with the number of decoder units, return sequences and state set to True\n",
        "    # and the recurrent initializer set to 'glorot_uniform'\n",
        "    self.gru = tf.keras.layers.GRU(self.dec_units,\n",
        "                                   return_sequences=True,\n",
        "                                   return_state=True,\n",
        "                                   recurrent_initializer='glorot_uniform')\n",
        "    # initialize a fully connected layer with the number of output units equal to the vocabulary size\n",
        "    self.fc = tf.keras.layers.Dense(vocab_size)\n",
        "\n",
        "#we have initialized the decoder above, follow the instructions given in the comments below and complete the call function\n",
        "  def call(self, x, hidden, enc_output):\n",
        "\n",
        "     # enc_output shape == (batch_size, max_length, hidden_size)\n",
        "    # get the context vector and attention weights from the attention layer\n",
        "    context_vector, attention_weights = self.attention(hidden, enc_output)\n",
        "\n",
        "    # pass the input sequence through the embedding layer\n",
        "    # x shape after passing through embedding == (batch_size, 1, embedding_dim)\n",
        "    x = self.embedding(x)\n",
        "\n",
        "    # concatenate the context vector and the embedded input sequence\n",
        "    # x shape after concatenation == (batch_size, 1, embedding_dim + hidden_size)\n",
        "    x = tf.concat([tf.expand_dims(context_vector, 1), x], axis=-1)\n",
        "\n",
        "    # pass the concatenated sequence and the initial state to the GRU as the hidden state\n",
        "    output, state = self.gru(x)\n",
        "\n",
        "    # reshape the GRU output to be of shape (batch_size * 1, hidden_size)\n",
        "    output = tf.reshape(output, (-1, output.shape[2]))\n",
        "\n",
        "    # pass the reshaped output through the fully connected layer to get the final output of shape (batch_size, vocab)\n",
        "    x = self.fc(output)\n",
        "    # return the decoder output, decoder state and attention weights\n",
        "    return x, state , attention_weights\n"
      ]
    },
    {
      "cell_type": "code",
      "execution_count": 38,
      "metadata": {
        "id": "c0lzlKGOurCm",
        "colab": {
          "base_uri": "https://localhost:8080/"
        },
        "outputId": "6cd010f4-a501-49e5-dac9-1d699edea048"
      },
      "outputs": [
        {
          "output_type": "stream",
          "name": "stdout",
          "text": [
            "Decoder output shape: (batch_size, vocab size) (64, 13196)\n"
          ]
        }
      ],
      "source": [
        "#Create an Decoder class object\n",
        "decoder = Decoder(tgt_vocab_size, embedding_dim, units, BATCH_SIZE)\n",
        "# sample input to get a sense of the shapes.\n",
        "sample_decoder_output, _, _ = decoder(tf.random.uniform((BATCH_SIZE, 1)),\n",
        "                                      sample_hidden, sample_output)\n",
        "\n",
        "print ('Decoder output shape: (batch_size, vocab size) {}'.format(sample_decoder_output.shape))"
      ]
    },
    {
      "cell_type": "markdown",
      "source": [
        "### **Task 4: Train the NMT model**\n",
        "\n"
      ],
      "metadata": {
        "id": "FfmOfx3VMbiF"
      }
    },
    {
      "cell_type": "markdown",
      "source": [
        "#### 4.1 Configure the model.\n",
        "To train the model you'll need several additional components:\n",
        "\n",
        "* **The Loss function**: The loss_function method calculates the loss between the target data and the model's prediction. The real argument is the target data, and the pred argument is the model's prediction.\n",
        "\n",
        "> The method first creates a binary mask to indicate which target data points are not padding (not equal to 0). The loss is calculated using the loss_object and the masked loss is returned by taking the mean of the masked loss values.\n",
        "\n",
        "* **The Optimizer** : Defines the optimizer and the loss function used to train the model. The optimizer used is Adam and the loss function used is SparseCategoricalCrossentropy.\n",
        "\n",
        "> SparseCategoricalCrossentropy is used because the target data is a categorical variable, but not one-hot encoded, so we use this form of categorical crossentropy loss. The from_logits argument is set to True because the model produces logits rather than probabilistic outputs, and the reduction argument is set to none because the loss values need to be calculated for each time step and then masked.\n",
        "\n",
        "* **Checkpoints**: The code defines the checkpoint and its directory. The checkpoint is a mechanism to save the model's state after each training epoch, so that we can resume training from the saved state if needed.\n",
        "\n",
        ">The checkpoint_dir is set to ./training_checkpoints and the checkpoint_prefix is set to ckpt inside the checkpoint_dir. The checkpoint is then defined using the tf.train.Checkpoint method, and includes the optimizer, the encoder and the decoder as its attributes.\n",
        "\n",
        "Here's an implementation of a masked loss and accuracy:"
      ],
      "metadata": {
        "id": "36m5MSKCVGk8"
      }
    },
    {
      "cell_type": "code",
      "execution_count": 39,
      "metadata": {
        "id": "DewBBiw8wnCG"
      },
      "outputs": [],
      "source": [
        "# Define the loss function and the optimizer\n",
        "# Use the Adam optimizer\n",
        "optimizer = tf.keras.optimizers.Adam()\n",
        "\n",
        "# Loss function is sparse categorical cross entropy\n",
        "loss_object = tf.keras.losses.SparseCategoricalCrossentropy(from_logits=True, reduction='none')\n",
        "\n",
        "\n",
        "\n",
        "# Define the loss function to calculate the difference between the real and predicted outputs\n",
        "def loss_function(real, pred):\n",
        "  mask = tf.math.logical_not(tf.math.equal(real, 0))  # Create a mask to ignore the padding values in the target sequence\n",
        "  loss_ = loss_object(real, pred)  # Calculate the loss using the loss function\n",
        "\n",
        "  # Multiply the loss by the mask to ignore the padding values\n",
        "  mask = tf.cast(mask, dtype=loss_.dtype)  # Cast the mask to the same data type as the loss\n",
        "  loss_ *= mask\n",
        "\n",
        "  # Calculate the mean loss across the batch size\n",
        "  return tf.reduce_mean(loss_)\n",
        "\n",
        "\n",
        "\n",
        "# Define the checkpoint path to save the training progress\n",
        "checkpoint_dir = './training_checkpoints'  # Directory to store the checkpoints\n",
        "checkpoint_prefix = os.path.join(checkpoint_dir, \"ckpt\")  # File prefix for the checkpoints\n",
        "checkpoint = tf.train.Checkpoint(optimizer=optimizer,  # Create a checkpoint object to save the optimizer and the models\n",
        "                                 encoder=encoder,\n",
        "                                 decoder=decoder)\n"
      ]
    },
    {
      "cell_type": "markdown",
      "source": [
        "#### 4.2 Configure the training step:\n",
        "A custom training loop (instead of Model.Fit etc.) is used for which further reference is available from Tensorflow [here](https://www.tensorflow.org/guide/keras/writing_a_training_loop_from_scratch)\n",
        "\n",
        "NOTE: While training the model, make sure your instance is GPU based.\n",
        "\n",
        "---\n",
        "\n",
        "\n",
        "\n",
        "The code is annotated with \"@tf.function\", which tells TensorFlow to compile this function for performance optimization.\n",
        "This is a TensorFlow function for a single training step of a sequence-to-sequence model. The input to the function includes:\n",
        "- `inp`: The input sequence to be encoded\n",
        "- `targ`: The target sequence to be decoded\n",
        "- `enc_hidden`: The initial hidden state of the encoder\n",
        "\n",
        "> The function performs the following operations:\n",
        "1. Encode the input sequence to get the encoded output and the final hidden state of the encoder.\n",
        "2. Set the initial hidden state of the decoder to the final hidden state of the encoder.\n",
        "3. Loop over the time steps of the target sequence to be passed as current input along with the hidden state and encoder output to get the predicted output and the next hidden state.\n",
        "4. Computing the loss between the target and the predicted output for each time step.\n",
        "5. Comparing the gradients of the loss with respect to the trainable variables of the encoder and decoder.\n",
        "6. Update the variables based on the computed gradients using an optimiser.\n",
        "\n",
        "---\n",
        "![picture](https://drive.google.com/uc?id=1siOhKcS8fYD_q71yarQE-uIofPV_CI81)"
      ],
      "metadata": {
        "id": "V1RCSNp2MiKp"
      }
    },
    {
      "cell_type": "code",
      "execution_count": 49,
      "metadata": {
        "id": "3Sx5blrnz-Wn"
      },
      "outputs": [],
      "source": [
        "@tf.function\n",
        "def train_step(inp, targ, enc_hidden):\n",
        "  # Initialize loss to 0\n",
        "  loss = 0\n",
        "\n",
        "  # Start recording operations for automatic differentiation\n",
        "  with tf.GradientTape() as tape:\n",
        "    # Encode the input with the hidden state and get the encoded output and the hidden state\n",
        "    enc_output, enc_hidden = encoder(inp, enc_hidden) # Write the code here\n",
        "\n",
        "    # Set the initial hidden state of the decoder to be the final hidden state of the encoder\n",
        "    dec_hidden = enc_hidden # Write the code here\n",
        "\n",
        "    # Set the initial input of the decoder to the start-of-sequence token\n",
        "    dec_input = tf.expand_dims([tgt_lang_tokenizer.word_index['<sos>']] * BATCH_SIZE, 1)# Write the code here\n",
        "\n",
        "    # Loop over the time steps of the target sequence\n",
        "    for t in range(1, targ.shape[1]):\n",
        "      # Pass the current input and hidden state to the decoder, along with the encoder output\n",
        "      predictions, dec_hidden, _ = decoder(dec_input, dec_hidden, enc_output) # Write the code here\n",
        "\n",
        "      # Compute the loss between the target and the predicted output\n",
        "      loss += loss_function(targ [:, t], predictions) # Write the code here\n",
        "\n",
        "      # Use teacher forcing - set the next input to be the target\n",
        "      dec_input = tf.expand_dims(targ[:, t], 1) # Write the code here\n",
        "\n",
        "  # Compute the average loss over all time steps\n",
        "  batch_loss = (loss / int(targ.shape[1]))\n",
        "\n",
        "  # Get a list of all trainable variables in the encoder and decoder\n",
        "  variables = encoder.trainable_variables + decoder.trainable_variables\n",
        "\n",
        "  # Compute the gradients of the loss with respect to the variables\n",
        "  gradients = tape.gradient(loss, variables)\n",
        "\n",
        "  # Use the optimizer to update the variables based on the computed gradients\n",
        "  # Write the code here\n",
        "  optimizer.apply_gradients(zip(gradients, variables))\n",
        "  # Return the average loss for this batch\n",
        "  return batch_loss\n"
      ]
    },
    {
      "cell_type": "markdown",
      "source": [
        "#### 4.3 Configure the validation step:\n",
        "The purpose of the validation step is to evaluate the model's performance on a validation dataset and to monitor the training process.\n",
        "\n",
        "---\n",
        "This is a TensorFlow function for a single validation step of a sequence-to-sequence model. The input to the function includes:\n",
        "- `inp`: The input sequence to be encoded\n",
        "- `targ`: The target sequence to be decoded\n",
        "- `enc_hidden`: The initial hidden state of the encoder\n",
        "\n",
        ">The function performs the following operations:\n",
        "1. Encoding the input sequence to get the encoded output and the final hidden state of the encoder\n",
        "2. Setting the initial hidden state of the decoder to be the final hidden state of the encoder\n",
        "3. Looping over the time steps of the target sequence, passing the current input and hidden state to the decoder, along with the encoder output, to get the predicted output\n",
        "4. Computing the loss between the target and the predicted output for each time step\n",
        "5. Computing the average loss over all time steps\n",
        "6. Returning the average loss for this batch"
      ],
      "metadata": {
        "id": "FSsM1rU_NyyH"
      }
    },
    {
      "cell_type": "code",
      "execution_count": 50,
      "metadata": {
        "id": "9FnspQbMRGRM"
      },
      "outputs": [],
      "source": [
        "# Define the validation step\n",
        "@tf.function\n",
        "def val_step(inp, targ, enc_hidden):\n",
        "    loss = 0 # Initialize the total loss for this batch\n",
        "\n",
        "    # Encoding the input sequence to get the encoded output and the final hidden state of the encoder\n",
        "    enc_output, enc_hidden = encoder(inp, enc_hidden)\n",
        "\n",
        "    # Setting the initial hidden state of the decoder to be the final hidden state of the encoder\n",
        "    dec_hidden = enc_hidden\n",
        "\n",
        "    # Setting the input to the decoder to be the start-of-sequence token\n",
        "    dec_input = tf.expand_dims([tgt_lang_tokenizer.word_index['<sos>']] * BATCH_SIZE, 1)\n",
        "\n",
        "    for t in range(1, targ.shape[1]): # Looping over the time steps of the target sequence\n",
        "\n",
        "    # Getting the predicted output and the next hidden state by passing the current input, hidden state, and encoder output to the decoder\n",
        "        predictions, dec_hidden, _ =  decoder(dec_input, dec_hidden, enc_output)\n",
        "        loss += loss_function(targ[:, t], predictions) # Write the code here\n",
        "        dec_input = tf.expand_dims(targ[:, t], 1) # Write the code here\n",
        "\n",
        "    batch_loss = (loss / int(targ.shape[1]))  # Write the code here\n",
        "\n",
        "    return batch_loss # Returning the average loss for this batch\n"
      ]
    },
    {
      "cell_type": "markdown",
      "source": [
        "#### 4.4 Initiate the model training:\n",
        "\n",
        "The following code trains a sequence to sequence model using the training and validation datasets. The model will be trained for 10 epochs.\n",
        "\n",
        "*NOTE: It is recommended that you train it for more number of epochs to evaluate whether the model's performance is increasing or not.*\n",
        "\n",
        "> At each epoch:\n",
        "* Step 1: Initialise Encoder’s hidden state\n",
        "* Step 2: Invoke train_step function\n",
        "* Step 3: Generate loss for each batch of the training dataset\n",
        "* Step 4: Accumulate loss to calculate the total training loss.\n",
        "* Step 5: Invoke train_step function\n",
        "* Step 6: Generate loss for each batch of the validation dataset\n",
        "* Step 7: Accumulate loss to calculate the total validation loss\n",
        "* Step 8: Store model after every 2 epochs\n",
        "* Step 9: Print metrics score\n",
        "\n",
        "---\n",
        "![picture](https://drive.google.com/uc?id=11FigkC_xa_cMfXcIF12U8DxYrjgqJKBK)"
      ],
      "metadata": {
        "id": "RNLsQg0lOwjo"
      }
    },
    {
      "cell_type": "code",
      "execution_count": 42,
      "metadata": {
        "id": "YrsM8VZC0Ars"
      },
      "outputs": [],
      "source": [
        "import time\n",
        "\n",
        "def train_and_validate(train_dataset, val_dataset, EPOCHS=10):\n",
        "    for epoch in range(EPOCHS):\n",
        "        start = time.time()\n",
        "\n",
        "        #Step1:\n",
        "        enc_hidden = encoder.initialize_hidden_state()\n",
        "        total_train_loss = 0\n",
        "        total_val_loss = 0\n",
        "        for (batch, (inp, targ)) in enumerate(train_dataset.take(steps_per_epoch)):\n",
        "\n",
        "            #Step 2 & 3:\n",
        "            # Call the train_step function by passing the input, target & encoder hidden state\n",
        "            batch_loss = train_step(inp, targ, enc_hidden)# Write the code here\n",
        "            #Step 4:\n",
        "            total_train_loss += batch_loss # Write the code here\n",
        "\n",
        "            # Print the loss every 100 batches\n",
        "            if batch % 100 == 0:\n",
        "                print('Epoch {} Batch {} Loss {:.4f}'.format(epoch + 1,\n",
        "                                                            batch,\n",
        "                                                            batch_loss.numpy()))\n",
        "\n",
        "        # Calculate the loss for each batch of validation data\n",
        "        for (batch, (inp, targ)) in enumerate(val_dataset.take(val_steps_per_epoch)):\n",
        "            #Step 5 & 6\n",
        "            # Call the val_step function by passing the input, target & encoder hidden state\n",
        "            val_batch_loss = val_step(inp, targ, enc_hidden) # Write the code here\n",
        "            #Step 7\n",
        "            total_val_loss += val_batch_loss # Write the code here\n",
        "\n",
        "        #Step 8\n",
        "        if (epoch + 1) % 2 == 0:\n",
        "            checkpoint.save(file_prefix = checkpoint_prefix)\n",
        "\n",
        "        #Step 9\n",
        "        # Print the average training loss for the epoch\n",
        "        print('Total training loss is {:.4f}'.format(total_train_loss / steps_per_epoch))\n",
        "\n",
        "        # Print the average validation loss for the epoch\n",
        "        print('Total validation loss is {:.4f}'.format( total_val_loss / val_steps_per_epoch))\n",
        "\n",
        "        #Print the total time taken for each batch\n",
        "        print('Time taken for 1 epoch {} sec\\n'.format(time.time() - start))\n"
      ]
    },
    {
      "cell_type": "code",
      "source": [
        "##Train the model\n",
        "train_and_validate(train_dataset, val_dataset)"
      ],
      "metadata": {
        "colab": {
          "base_uri": "https://localhost:8080/"
        },
        "id": "XGGRuX3uttDv",
        "outputId": "bad21b53-08a8-4f79-daf7-fb92afa37cb0"
      },
      "execution_count": 51,
      "outputs": [
        {
          "output_type": "stream",
          "name": "stdout",
          "text": [
            "Epoch 1 Batch 0 Loss 1.4492\n",
            "Epoch 1 Batch 100 Loss 0.8562\n",
            "Epoch 1 Batch 200 Loss 0.8491\n",
            "Epoch 1 Batch 300 Loss 0.6953\n",
            "Epoch 1 Batch 400 Loss 0.6569\n",
            "Epoch 1 Batch 500 Loss 0.6992\n",
            "Epoch 1 Batch 600 Loss 0.7101\n",
            "Epoch 1 Batch 700 Loss 0.6711\n",
            "Epoch 1 Batch 800 Loss 0.6054\n",
            "Epoch 1 Batch 900 Loss 0.5968\n",
            "Epoch 1 Batch 1000 Loss 0.5808\n",
            "Epoch 1 Batch 1100 Loss 0.5699\n",
            "Epoch 1 Batch 1200 Loss 0.5484\n",
            "Epoch 1 Batch 1300 Loss 0.4452\n",
            "Epoch 1 Batch 1400 Loss 0.5096\n",
            "Total training loss is 0.6707\n",
            "Total validation loss is 0.4983\n",
            "Time taken for 1 epoch 252.9622187614441 sec\n",
            "\n",
            "Epoch 2 Batch 0 Loss 0.4548\n",
            "Epoch 2 Batch 100 Loss 0.4846\n",
            "Epoch 2 Batch 200 Loss 0.4870\n",
            "Epoch 2 Batch 300 Loss 0.4895\n",
            "Epoch 2 Batch 400 Loss 0.3783\n",
            "Epoch 2 Batch 500 Loss 0.4589\n",
            "Epoch 2 Batch 600 Loss 0.3181\n",
            "Epoch 2 Batch 700 Loss 0.4403\n",
            "Epoch 2 Batch 800 Loss 0.3637\n",
            "Epoch 2 Batch 900 Loss 0.3286\n",
            "Epoch 2 Batch 1000 Loss 0.2869\n",
            "Epoch 2 Batch 1100 Loss 0.3039\n",
            "Epoch 2 Batch 1200 Loss 0.3467\n",
            "Epoch 2 Batch 1300 Loss 0.2627\n",
            "Epoch 2 Batch 1400 Loss 0.3286\n",
            "Total training loss is 0.3856\n",
            "Total validation loss is 0.3274\n",
            "Time taken for 1 epoch 150.1005859375 sec\n",
            "\n",
            "Epoch 3 Batch 0 Loss 0.2913\n",
            "Epoch 3 Batch 100 Loss 0.2639\n",
            "Epoch 3 Batch 200 Loss 0.2369\n",
            "Epoch 3 Batch 300 Loss 0.3664\n",
            "Epoch 3 Batch 400 Loss 0.2341\n",
            "Epoch 3 Batch 500 Loss 0.2549\n",
            "Epoch 3 Batch 600 Loss 0.2302\n",
            "Epoch 3 Batch 700 Loss 0.2103\n",
            "Epoch 3 Batch 800 Loss 0.2540\n",
            "Epoch 3 Batch 900 Loss 0.2692\n",
            "Epoch 3 Batch 1000 Loss 0.2528\n",
            "Epoch 3 Batch 1100 Loss 0.2331\n",
            "Epoch 3 Batch 1200 Loss 0.2230\n",
            "Epoch 3 Batch 1300 Loss 0.2624\n",
            "Epoch 3 Batch 1400 Loss 0.2336\n",
            "Total training loss is 0.2573\n",
            "Total validation loss is 0.2789\n",
            "Time taken for 1 epoch 149.87820720672607 sec\n",
            "\n",
            "Epoch 4 Batch 0 Loss 0.1944\n",
            "Epoch 4 Batch 100 Loss 0.2388\n",
            "Epoch 4 Batch 200 Loss 0.1826\n",
            "Epoch 4 Batch 300 Loss 0.1786\n",
            "Epoch 4 Batch 400 Loss 0.2033\n",
            "Epoch 4 Batch 500 Loss 0.2220\n",
            "Epoch 4 Batch 600 Loss 0.2412\n",
            "Epoch 4 Batch 700 Loss 0.1616\n",
            "Epoch 4 Batch 800 Loss 0.2107\n",
            "Epoch 4 Batch 900 Loss 0.1923\n",
            "Epoch 4 Batch 1000 Loss 0.1823\n",
            "Epoch 4 Batch 1100 Loss 0.2071\n",
            "Epoch 4 Batch 1200 Loss 0.2035\n",
            "Epoch 4 Batch 1300 Loss 0.1727\n",
            "Epoch 4 Batch 1400 Loss 0.1777\n",
            "Total training loss is 0.1916\n",
            "Total validation loss is 0.2595\n",
            "Time taken for 1 epoch 150.01496934890747 sec\n",
            "\n",
            "Epoch 5 Batch 0 Loss 0.1113\n",
            "Epoch 5 Batch 100 Loss 0.1437\n",
            "Epoch 5 Batch 200 Loss 0.1580\n",
            "Epoch 5 Batch 300 Loss 0.1257\n",
            "Epoch 5 Batch 400 Loss 0.1529\n",
            "Epoch 5 Batch 500 Loss 0.1935\n",
            "Epoch 5 Batch 600 Loss 0.2076\n",
            "Epoch 5 Batch 700 Loss 0.1071\n",
            "Epoch 5 Batch 800 Loss 0.1584\n",
            "Epoch 5 Batch 900 Loss 0.1230\n",
            "Epoch 5 Batch 1000 Loss 0.1493\n",
            "Epoch 5 Batch 1100 Loss 0.1331\n",
            "Epoch 5 Batch 1200 Loss 0.2089\n",
            "Epoch 5 Batch 1300 Loss 0.1282\n",
            "Epoch 5 Batch 1400 Loss 0.1876\n",
            "Total training loss is 0.1498\n",
            "Total validation loss is 0.2517\n",
            "Time taken for 1 epoch 149.58452558517456 sec\n",
            "\n",
            "Epoch 6 Batch 0 Loss 0.1092\n",
            "Epoch 6 Batch 100 Loss 0.1138\n",
            "Epoch 6 Batch 200 Loss 0.1247\n",
            "Epoch 6 Batch 300 Loss 0.1039\n",
            "Epoch 6 Batch 400 Loss 0.1341\n",
            "Epoch 6 Batch 500 Loss 0.1172\n",
            "Epoch 6 Batch 600 Loss 0.1127\n",
            "Epoch 6 Batch 700 Loss 0.0929\n",
            "Epoch 6 Batch 800 Loss 0.0992\n",
            "Epoch 6 Batch 900 Loss 0.1186\n",
            "Epoch 6 Batch 1000 Loss 0.1133\n",
            "Epoch 6 Batch 1100 Loss 0.1335\n",
            "Epoch 6 Batch 1200 Loss 0.1582\n",
            "Epoch 6 Batch 1300 Loss 0.1816\n",
            "Epoch 6 Batch 1400 Loss 0.1325\n",
            "Total training loss is 0.1215\n",
            "Total validation loss is 0.2497\n",
            "Time taken for 1 epoch 149.5969557762146 sec\n",
            "\n",
            "Epoch 7 Batch 0 Loss 0.0861\n",
            "Epoch 7 Batch 100 Loss 0.0849\n",
            "Epoch 7 Batch 200 Loss 0.0751\n",
            "Epoch 7 Batch 300 Loss 0.0926\n",
            "Epoch 7 Batch 400 Loss 0.0736\n",
            "Epoch 7 Batch 500 Loss 0.0992\n",
            "Epoch 7 Batch 600 Loss 0.1067\n",
            "Epoch 7 Batch 700 Loss 0.1190\n",
            "Epoch 7 Batch 800 Loss 0.0991\n",
            "Epoch 7 Batch 900 Loss 0.1123\n",
            "Epoch 7 Batch 1000 Loss 0.1148\n",
            "Epoch 7 Batch 1100 Loss 0.1174\n",
            "Epoch 7 Batch 1200 Loss 0.0816\n",
            "Epoch 7 Batch 1300 Loss 0.1142\n",
            "Epoch 7 Batch 1400 Loss 0.1076\n",
            "Total training loss is 0.0995\n",
            "Total validation loss is 0.2485\n",
            "Time taken for 1 epoch 149.15790724754333 sec\n",
            "\n",
            "Epoch 8 Batch 0 Loss 0.0970\n",
            "Epoch 8 Batch 100 Loss 0.0871\n",
            "Epoch 8 Batch 200 Loss 0.0889\n",
            "Epoch 8 Batch 300 Loss 0.0693\n",
            "Epoch 8 Batch 400 Loss 0.0632\n",
            "Epoch 8 Batch 500 Loss 0.0847\n",
            "Epoch 8 Batch 600 Loss 0.0829\n",
            "Epoch 8 Batch 700 Loss 0.0817\n",
            "Epoch 8 Batch 800 Loss 0.0628\n",
            "Epoch 8 Batch 900 Loss 0.0906\n",
            "Epoch 8 Batch 1000 Loss 0.1005\n",
            "Epoch 8 Batch 1100 Loss 0.0749\n",
            "Epoch 8 Batch 1200 Loss 0.0754\n",
            "Epoch 8 Batch 1300 Loss 0.1011\n",
            "Epoch 8 Batch 1400 Loss 0.1076\n",
            "Total training loss is 0.0850\n",
            "Total validation loss is 0.2543\n",
            "Time taken for 1 epoch 149.19449472427368 sec\n",
            "\n",
            "Epoch 9 Batch 0 Loss 0.0728\n",
            "Epoch 9 Batch 100 Loss 0.0518\n",
            "Epoch 9 Batch 200 Loss 0.0458\n",
            "Epoch 9 Batch 300 Loss 0.0628\n",
            "Epoch 9 Batch 400 Loss 0.0778\n",
            "Epoch 9 Batch 500 Loss 0.0793\n",
            "Epoch 9 Batch 600 Loss 0.0517\n",
            "Epoch 9 Batch 700 Loss 0.0799\n",
            "Epoch 9 Batch 800 Loss 0.0671\n",
            "Epoch 9 Batch 900 Loss 0.0758\n",
            "Epoch 9 Batch 1000 Loss 0.1053\n",
            "Epoch 9 Batch 1100 Loss 0.0748\n",
            "Epoch 9 Batch 1200 Loss 0.0536\n",
            "Epoch 9 Batch 1300 Loss 0.0833\n",
            "Epoch 9 Batch 1400 Loss 0.0561\n",
            "Total training loss is 0.0724\n",
            "Total validation loss is 0.2580\n",
            "Time taken for 1 epoch 148.6564064025879 sec\n",
            "\n",
            "Epoch 10 Batch 0 Loss 0.0650\n",
            "Epoch 10 Batch 100 Loss 0.0655\n",
            "Epoch 10 Batch 200 Loss 0.0438\n",
            "Epoch 10 Batch 300 Loss 0.0474\n",
            "Epoch 10 Batch 400 Loss 0.0595\n",
            "Epoch 10 Batch 500 Loss 0.0521\n",
            "Epoch 10 Batch 600 Loss 0.0607\n",
            "Epoch 10 Batch 700 Loss 0.0511\n",
            "Epoch 10 Batch 800 Loss 0.0909\n",
            "Epoch 10 Batch 900 Loss 0.0736\n",
            "Epoch 10 Batch 1000 Loss 0.0879\n",
            "Epoch 10 Batch 1100 Loss 0.0701\n",
            "Epoch 10 Batch 1200 Loss 0.0569\n",
            "Epoch 10 Batch 1300 Loss 0.0622\n",
            "Epoch 10 Batch 1400 Loss 0.0617\n",
            "Total training loss is 0.0608\n",
            "Total validation loss is 0.2637\n",
            "Time taken for 1 epoch 149.33732771873474 sec\n",
            "\n"
          ]
        }
      ]
    },
    {
      "cell_type": "markdown",
      "source": [
        "# **Prediction using Greedy Search**\n",
        "\n",
        "During inference i.e during testing, we change the prediction process slightly.\n",
        "The code evaluate(sentence) defines a function that takes a sentence as input and returns the translated result along with the original sentence and an attention plot. Here's how the code performs these steps:\n",
        "\n",
        "1. Initialize the attention plot with zeros, with shape (max_length_tgt, max_length_src).\n",
        "2. Preprocess the input sentence by splitting it into words and converting each word into its corresponding index in the source tokenizer vocabulary.\n",
        "3. Pad the input sequence with zeros to a fixed length max_length_src.\n",
        "4. Convert the input sequence into a tensor.\n",
        "5. Initialize the hidden state of the encoder with zeros.\n",
        "6. Pass the input sequence through the encoder and get the output and the final hidden state.\n",
        "7. Initialize the hidden state of the decoder with the final hidden state of the encoder.\n",
        "8. Initialize the decoder input with the index of the special symbol <sos>.\n",
        "9. For t in range(max_length_tgt):\n",
        ">* Pass the decoder input, hidden state and the encoder output through the decoder and get the predictions and attention weights.\n",
        ">* Add the attention weights to the attention plot.\n",
        ">* Get the index of the word with the highest predicted probability and add it to the result string.\n",
        ">* If the word is the special symbol <eos>, return the result, the original sentence, and the attention plot.\n",
        ">* Set the decoder input to be the index of the word with the highest predicted probability.\n",
        "10. Return the result, the original sentence, and the attention plot."
      ],
      "metadata": {
        "id": "ckOQkP8-PSDO"
      }
    },
    {
      "cell_type": "markdown",
      "source": [
        "##### Attention plot\n",
        "\n",
        "The function for plotting the attention weights that takes three arguments: **attention, sentence, and predicted_sentence.**\n",
        "* Create a figure and set its size to 10 x 10 using plt.figure(figsize=(10, 10)).\n",
        "* Add a subplot of 1 x 1 grid and select the first subplot using fig.add_subplot(1, 1, 1).\n",
        "* Display the attention weights with a heatmap using ax.matshow(attention, cmap='viridis').\n",
        "* Create a font dictionary to set the font size of the tick labels to 14.\n",
        "* Set the x-axis tick labels to sentence and the y-axis tick labels to predicted_sentence with a font size of 14.\n",
        "* Set the x-axis major locator to tick every 1 and the y-axis major locator to tick every 1 using ax.xaxis.set_major_locator(ticker.MultipleLocator(1)) and ax.yaxis.set_major_locator(ticker.MultipleLocator(1)).\n",
        "* Display the plot using plt.show()."
      ],
      "metadata": {
        "id": "XtHI6-c3Qtjj"
      }
    },
    {
      "cell_type": "code",
      "source": [
        "def plot_attention(attention, sentence, predicted_sentence):\n",
        "  # create a figure and set the figsize to 10 x 10\n",
        "  fig = plt.figure(figsize=(10, 10))\n",
        "\n",
        "  # add a subplot of 1x1 grid, and select the first subplot\n",
        "  ax = fig.add_subplot(1, 1, 1)\n",
        "\n",
        "  # display the attention weights with a heatmap using matshow\n",
        "  ax.matshow(attention, cmap='viridis')\n",
        "\n",
        "  # create a fontdict to set font size\n",
        "  fontdict = {'fontsize': 14}\n",
        "\n",
        "  # set the x axis tick labels to the sentence, with a font size of 14\n",
        "  ax.set_xticklabels([''] + sentence, fontdict=fontdict, rotation=90)\n",
        "\n",
        "  # set the y axis tick labels to the predicted sentence, with a font size of 14\n",
        "  ax.set_yticklabels([''] + predicted_sentence, fontdict=fontdict)\n",
        "\n",
        "  # set the x axis major locator to tick every 1\n",
        "  ax.xaxis.set_major_locator(ticker.MultipleLocator(1))\n",
        "\n",
        "  # set the y axis major locator to tick every 1\n",
        "  ax.yaxis.set_major_locator(ticker.MultipleLocator(1))\n",
        "\n",
        "  # display the plot\n",
        "  plt.show()\n"
      ],
      "metadata": {
        "id": "FSUOoyM0jcU8"
      },
      "execution_count": 52,
      "outputs": []
    },
    {
      "cell_type": "code",
      "source": [
        "# Define the evaluate function\n",
        "def evaluate(sentence):\n",
        "    #Initialize the attention plot with zeros\n",
        "    attention_plot = np.zeros((max_length_trg, max_length_src))\n",
        "    # Preprocess the input sentence\n",
        "    sentence = unicode_to_ascii(sentence)\n",
        "    sentence = preprocess_text(sentence)\n",
        "    # Convert the sentence into a list of word indices\n",
        "    inputs = [src_lang_tokenizer.word_index[i] for i in sentence.split(' ')]\n",
        "    # Pad the list of word indices to make it equal to max_length_src\n",
        "    inputs = pad_sequences([inputs],\n",
        "                          maxlen=max_length_src,\n",
        "                          padding='post')\n",
        "    # Convert the inputs to a tensor\n",
        "    inputs = tf.convert_to_tensor(inputs)\n",
        "\n",
        "    result = ''\n",
        "    # Initialize the hidden state of the encoder\n",
        "    hidden = [tf.zeros((1, units))]\n",
        "    # Pass the inputs and hidden state through the encoder\n",
        "    enc_out, enc_hidden = encoder(inputs, hidden)\n",
        "    # Set the decoder's hidden state to the encoder's hidden state\n",
        "    dec_hidden = enc_hidden\n",
        "    # Initialize the input to the decoder as the start-of-sentence token\n",
        "    dec_input = tf.expand_dims([tgt_lang_tokenizer.word_index['<sos>']], 0)\n",
        "\n",
        "    # Loop for max_length_tgt steps\n",
        "    for t in range(max_length_trg):\n",
        "        # Pass the decoder input, hidden state, and encoder output through the decoder\n",
        "        predictions, dec_hidden, attention_weights = decoder(dec_input,\n",
        "                                                         dec_hidden,\n",
        "                                                         enc_out)\n",
        "        # Reshape the attention weights\n",
        "        attention_weights = tf.reshape(attention_weights, (-1, ))\n",
        "        # Store the attention weights for plotting\n",
        "        attention_plot[t] = attention_weights.numpy()\n",
        "        # Get the index of the predicted word\n",
        "        predicted_id = tf.argmax(predictions[0]).numpy()\n",
        "        # Concatenate the predicted word to the result string\n",
        "        result += tgt_lang_tokenizer.index_word[predicted_id] + ' '\n",
        "\n",
        "        # If the predicted word is the end-of-sentence token, return the result\n",
        "        if tgt_lang_tokenizer.index_word[predicted_id] == '<eos>':\n",
        "            return result, sentence, attention_plot\n",
        "        # Set the input to the decoder to be the predicted word\n",
        "        dec_input = tf.expand_dims([predicted_id], 0)\n",
        "\n",
        "    return result, sentence, attention_plot\n"
      ],
      "metadata": {
        "id": "oK7DGhMw-ils"
      },
      "execution_count": 57,
      "outputs": []
    },
    {
      "cell_type": "code",
      "source": [
        "def translate(sentence):\n",
        "  result, sentence, attention_plot = evaluate(sentence)\n",
        "\n",
        "  print('Input:', sentence)\n",
        "  print('Predicted Translation:', result)\n",
        "\n",
        "  attention_plot = attention_plot[:len(result.split(' ')),\n",
        "                                  :len(sentence.split(' '))]\n",
        "  plot_attention(attention_plot, sentence.split(' '), result.split(' '))"
      ],
      "metadata": {
        "id": "OEhNSRtDjeYd"
      },
      "execution_count": 58,
      "outputs": []
    },
    {
      "cell_type": "code",
      "source": [
        "checkpoint.restore(tf.train.latest_checkpoint(checkpoint_dir))"
      ],
      "metadata": {
        "id": "q3yIIN-Qjhoh",
        "colab": {
          "base_uri": "https://localhost:8080/"
        },
        "outputId": "3a86472b-ac18-48d0-d7ff-3a28613891f3"
      },
      "execution_count": 59,
      "outputs": [
        {
          "output_type": "execute_result",
          "data": {
            "text/plain": [
              "<tensorflow.python.checkpoint.checkpoint.CheckpointLoadStatus at 0x7f56992ef130>"
            ]
          },
          "metadata": {},
          "execution_count": 59
        }
      ]
    },
    {
      "cell_type": "code",
      "source": [
        "translate(u'hace mucho frío aquí.')"
      ],
      "metadata": {
        "id": "4EFg5iVOjjZy",
        "colab": {
          "base_uri": "https://localhost:8080/",
          "height": 999
        },
        "outputId": "8cac325b-94bf-41c5-9eb6-2ca8f37031a8"
      },
      "execution_count": 60,
      "outputs": [
        {
          "output_type": "stream",
          "name": "stdout",
          "text": [
            "Input: <sos> hace mucho frio aqui <eos>\n",
            "Predicted Translation: it s very cold here <eos> \n"
          ]
        },
        {
          "output_type": "stream",
          "name": "stderr",
          "text": [
            "<ipython-input-52-195a7c32b7e5>:15: UserWarning: FixedFormatter should only be used together with FixedLocator\n",
            "  ax.set_xticklabels([''] + sentence, fontdict=fontdict, rotation=90)\n",
            "<ipython-input-52-195a7c32b7e5>:18: UserWarning: FixedFormatter should only be used together with FixedLocator\n",
            "  ax.set_yticklabels([''] + predicted_sentence, fontdict=fontdict)\n"
          ]
        },
        {
          "output_type": "display_data",
          "data": {
            "text/plain": [
              "<Figure size 1000x1000 with 1 Axes>"
            ],
            "image/png": "[encoded data removed]"
          },
          "metadata": {}
        }
      ]
    },
    {
      "cell_type": "code",
      "source": [
        "translate(u'trata de averiguarlo.')"
      ],
      "metadata": {
        "id": "ypJCFWmFPevu",
        "colab": {
          "base_uri": "https://localhost:8080/",
          "height": 1000
        },
        "outputId": "37d33699-6eb9-41ca-b74b-6c1f999d73a2"
      },
      "execution_count": 61,
      "outputs": [
        {
          "output_type": "stream",
          "name": "stdout",
          "text": [
            "Input: <sos> trata de averiguarlo <eos>\n",
            "Predicted Translation: try to figure it out <eos> \n"
          ]
        },
        {
          "output_type": "stream",
          "name": "stderr",
          "text": [
            "<ipython-input-52-195a7c32b7e5>:15: UserWarning: FixedFormatter should only be used together with FixedLocator\n",
            "  ax.set_xticklabels([''] + sentence, fontdict=fontdict, rotation=90)\n",
            "<ipython-input-52-195a7c32b7e5>:18: UserWarning: FixedFormatter should only be used together with FixedLocator\n",
            "  ax.set_yticklabels([''] + predicted_sentence, fontdict=fontdict)\n"
          ]
        },
        {
          "output_type": "display_data",
          "data": {
            "text/plain": [
              "<Figure size 1000x1000 with 1 Axes>"
            ],
            "image/png": "[encoded data removed]"
          },
          "metadata": {}
        }
      ]
    },
    {
      "cell_type": "code",
      "source": [
        "translate(u'¿todavía están en casa?')"
      ],
      "metadata": {
        "id": "b7NQO77Tm0B6",
        "colab": {
          "base_uri": "https://localhost:8080/",
          "height": 1000
        },
        "outputId": "46ea85f9-77e8-4b8a-a797-0c406a6b9742"
      },
      "execution_count": 62,
      "outputs": [
        {
          "output_type": "stream",
          "name": "stdout",
          "text": [
            "Input: <sos> todavia estan en casa <eos>\n",
            "Predicted Translation: are you still at home <eos> \n"
          ]
        },
        {
          "output_type": "stream",
          "name": "stderr",
          "text": [
            "<ipython-input-52-195a7c32b7e5>:15: UserWarning: FixedFormatter should only be used together with FixedLocator\n",
            "  ax.set_xticklabels([''] + sentence, fontdict=fontdict, rotation=90)\n",
            "<ipython-input-52-195a7c32b7e5>:18: UserWarning: FixedFormatter should only be used together with FixedLocator\n",
            "  ax.set_yticklabels([''] + predicted_sentence, fontdict=fontdict)\n"
          ]
        },
        {
          "output_type": "display_data",
          "data": {
            "text/plain": [
              "<Figure size 1000x1000 with 1 Axes>"
            ],
            "image/png": "[encoded data removed]"
          },
          "metadata": {}
        }
      ]
    }
  ],
  "metadata": {
    "accelerator": "GPU",
    "colab": {
      "provenance": [],
      "toc_visible": true,
      "machine_shape": "hm",
      "gpuType": "A100"
    },
    "kernelspec": {
      "display_name": "Python 3",
      "name": "python3"
    },
    "language_info": {
      "name": "python"
    }
  },
  "nbformat": 4,
  "nbformat_minor": 0
}